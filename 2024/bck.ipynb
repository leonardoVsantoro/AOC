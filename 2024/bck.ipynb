{
 "cells": [
  {
   "cell_type": "code",
   "execution_count": null,
   "metadata": {},
   "outputs": [],
   "source": [
    "\n",
    "# from collections import deque\n",
    "# def computez(wires = wires, rules = rules):\n",
    "#     def do_op(in1, in2, op):\n",
    "#         if op == 'AND': return wires[in1] & wires[in2]\n",
    "#         elif op == 'OR': return wires[in1] | wires[in2]\n",
    "#         elif op == 'XOR': return wires[in1] ^ wires[in2]\n",
    "#         else: return None\n",
    "#     tosee = deque(rules.keys())\n",
    "#     while tosee:\n",
    "#         z = tosee[-1]\n",
    "#         in1, in2, op = rules[z]\n",
    "#         if in1 in wires and in2 in wires:\n",
    "#             wires[z] = do_op(*rules[z])\n",
    "#             tosee.pop()\n",
    "#         else:\n",
    "#             tosee.extend([_ for _ in rules[z][:2] if _ not in wires])"
   ]
  },
  {
   "cell_type": "code",
   "execution_count": null,
   "metadata": {},
   "outputs": [],
   "source": []
  },
  {
   "cell_type": "code",
   "execution_count": null,
   "metadata": {},
   "outputs": [],
   "source": []
  },
  {
   "cell_type": "code",
   "execution_count": null,
   "metadata": {},
   "outputs": [],
   "source": []
  },
  {
   "cell_type": "code",
   "execution_count": null,
   "metadata": {},
   "outputs": [
    {
     "name": "stdout",
     "output_type": "stream",
     "text": [
      "Hitting Set: {'z05', 'z00', 'pjf'}\n"
     ]
    }
   ],
   "source": [
    "\n",
    "def get_dependence_upper_tree(name):\n",
    "    parents = set([name])\n",
    "    tocheck = deque([name])\n",
    "    while tocheck:\n",
    "        leaf = tocheck.popleft()\n",
    "        if leaf in rules:\n",
    "            for p in rules[leaf][:2]:\n",
    "                if p[0] not in ['x','y']: parents.add(p); tocheck.append(p)\n",
    "    return parents\n",
    "\n",
    "def greedy_hitting_set(sets):\n",
    "    hitting_set = set()\n",
    "    uncovered_sets = list(sets)\n",
    "    while uncovered_sets:\n",
    "        element_counts = {}\n",
    "        for s in uncovered_sets:\n",
    "            for element in s:\n",
    "                if element in element_counts:\n",
    "                    element_counts[element] += 1\n",
    "                else:\n",
    "                    element_counts[element] = 1\n",
    "        best_element = max(element_counts, key=element_counts.get)\n",
    "        hitting_set.add(best_element)\n",
    "        uncovered_sets = [s for s in uncovered_sets if best_element not in s]\n",
    "    return hitting_set\n",
    "\n",
    "all_zwires = [_ for _ in rules if _[0]=='z']; all_zwires.sort(reverse=True)\n",
    "\n",
    "result = greedy_hitting_set([get_dependence_upper_tree(z) for z in all_zwires])\n",
    "print(\"Hitting Set:\", result)\n",
    "\n",
    "# result = greedy_hitting_set([get_dependence_upper_tree(z) for z in possible_swaps])\n",
    "# print(\"Hitting Set:\", result)\n",
    "\n",
    "# for z in all_zwires:\n",
    "#     print(z, len(get_dependence_upper_tree(z).intersection(result)))\n"
   ]
  },
  {
   "cell_type": "code",
   "execution_count": null,
   "metadata": {},
   "outputs": [
    {
     "name": "stdout",
     "output_type": "stream",
     "text": [
      "z45 {'wcs', 'rrc', 'ntm', 'mgv', 'ktk', 'jnf', 'dcc', 'nqs', 'gmp', 'msn', 'qjb', 'fsh', 'sqw', 'vpb', 'tnm', 'wkt', 'gst', 'pjf', 'dmk', 'wmf', 'hgg', 'vts', 'gvt', 'sqq', 'fcg', 'wcq', 'rdq', 'wdj', 'hbj', 'vcr', 'vmj', 'vph', 'thc', 'dph', 'sjt', 'smv', 'hvp', 'tgw', 'ccs', 'nkr', 'brp', 'z00', 'cch', 'jwq', 'qbm', 'ktd', 'pmm', 'vqr', 'vht', 'pgk', 'bgb', 'wtv', 'pjr', 'qvq', 'hbg', 'kgm', 'mqt', 'mrw', 'z05', 'scc', 'gbv', 'trs', 'wcr', 'jdc', 'wws', 'ghm', 'jwk', 'kkq', 'vvf', 'gfk', 'rsw', 'mvf', 'dqw', 'jhn', 'css', 'cfk', 'sgj', 'dtt', 'wjj', 'bwv', 'vcf', 'wfd', 'kbk', 'dgn', 'wqh', 'jmv', 'rrn', 'hwb', 'skp', 'fpt'}\n",
      "z44 {'wcs', 'rrc', 'ntm', 'mgv', 'ktk', 'jnf', 'dcc', 'nqs', 'gmp', 'msn', 'qjb', 'fsh', 'sqw', 'vpb', 'tnm', 'wkt', 'gst', 'pjf', 'dmk', 'wmf', 'hgg', 'vts', 'gvt', 'sqq', 'fcg', 'wcq', 'rdq', 'wdj', 'hbj', 'vcr', 'vmj', 'vph', 'thc', 'dph', 'sjt', 'smv', 'hvp', 'tgw', 'ccs', 'nkr', 'brp', 'z00', 'cch', 'jwq', 'qbm', 'ktd', 'pmm', 'vqr', 'vht', 'pgk', 'bgb', 'wtv', 'pjr', 'qvq', 'hbg', 'kgm', 'mqt', 'mrw', 'z05', 'scc', 'gbv', 'trs', 'wcr', 'jdc', 'wws', 'ghm', 'jwk', 'kkq', 'vvf', 'gfk', 'rsw', 'mvf', 'dqw', 'jhn', 'css', 'cfk', 'sgj', 'dtt', 'wjj', 'bwv', 'vcf', 'wfd', 'kbk', 'dgn', 'wqh', 'jmv', 'rrn', 'hwb', 'skp', 'fpt'}\n",
      "z43 {'wcs', 'rrc', 'ntm', 'ktk', 'jnf', 'dcc', 'nqs', 'gmp', 'msn', 'qjb', 'fsh', 'sqw', 'vpb', 'tnm', 'wkt', 'gst', 'pjf', 'dmk', 'wmf', 'hgg', 'vts', 'gvt', 'sqq', 'fcg', 'wcq', 'rdq', 'wdj', 'hbj', 'vcr', 'vmj', 'vph', 'thc', 'sjt', 'smv', 'hvp', 'tgw', 'ccs', 'nkr', 'brp', 'z00', 'cch', 'jwq', 'qbm', 'ktd', 'pmm', 'vqr', 'vht', 'pgk', 'bgb', 'wtv', 'pjr', 'qvq', 'hbg', 'kgm', 'mqt', 'mrw', 'z05', 'scc', 'gbv', 'trs', 'wcr', 'jdc', 'wws', 'ghm', 'jwk', 'kkq', 'vvf', 'gfk', 'rsw', 'mvf', 'dqw', 'jhn', 'css', 'cfk', 'sgj', 'dtt', 'wjj', 'bwv', 'vcf', 'wfd', 'kbk', 'dgn', 'wqh', 'jmv', 'rrn', 'hwb', 'skp', 'fpt'}\n",
      "z42 {'wcs', 'rrc', 'ntm', 'ktk', 'jnf', 'nqs', 'gmp', 'msn', 'qjb', 'fsh', 'sqw', 'vpb', 'tnm', 'wkt', 'gst', 'pjf', 'dmk', 'wmf', 'hgg', 'vts', 'gvt', 'sqq', 'fcg', 'wcq', 'rdq', 'wdj', 'hbj', 'vcr', 'vmj', 'vph', 'thc', 'sjt', 'smv', 'hvp', 'tgw', 'ccs', 'nkr', 'brp', 'z00', 'jwq', 'qbm', 'ktd', 'pmm', 'vqr', 'vht', 'pgk', 'bgb', 'wtv', 'pjr', 'qvq', 'hbg', 'kgm', 'mqt', 'mrw', 'z05', 'scc', 'gbv', 'trs', 'wcr', 'jdc', 'wws', 'ghm', 'jwk', 'kkq', 'vvf', 'gfk', 'rsw', 'mvf', 'dqw', 'jhn', 'css', 'cfk', 'sgj', 'dtt', 'wjj', 'bwv', 'vcf', 'wfd', 'kbk', 'dgn', 'wqh', 'jmv', 'rrn', 'hwb', 'skp', 'fpt'}\n",
      "z41 {'wcs', 'rrc', 'ntm', 'ktk', 'jnf', 'nqs', 'gmp', 'msn', 'qjb', 'fsh', 'sqw', 'vpb', 'tnm', 'wkt', 'gst', 'pjf', 'dmk', 'wmf', 'hgg', 'vts', 'gvt', 'sqq', 'fcg', 'wcq', 'rdq', 'wdj', 'hbj', 'vcr', 'vmj', 'vph', 'sjt', 'smv', 'hvp', 'tgw', 'ccs', 'nkr', 'brp', 'z00', 'jwq', 'qbm', 'ktd', 'pmm', 'vqr', 'vht', 'pgk', 'bgb', 'wtv', 'pjr', 'qvq', 'hbg', 'kgm', 'mqt', 'mrw', 'z05', 'scc', 'gbv', 'trs', 'wcr', 'jdc', 'wws', 'ghm', 'jwk', 'kkq', 'vvf', 'gfk', 'rsw', 'mvf', 'dqw', 'jhn', 'css', 'cfk', 'sgj', 'dtt', 'wjj', 'bwv', 'wfd', 'kbk', 'dgn', 'wqh', 'jmv', 'rrn', 'hwb', 'skp', 'fpt'}\n",
      "z40 {'wcs', 'rrc', 'ntm', 'ktk', 'jnf', 'nqs', 'gmp', 'msn', 'qjb', 'sqw', 'vpb', 'tnm', 'wkt', 'gst', 'pjf', 'dmk', 'wmf', 'hgg', 'vts', 'gvt', 'sqq', 'fcg', 'wcq', 'rdq', 'wdj', 'hbj', 'vcr', 'vmj', 'vph', 'sjt', 'smv', 'hvp', 'tgw', 'ccs', 'nkr', 'brp', 'z00', 'jwq', 'qbm', 'ktd', 'pmm', 'vqr', 'vht', 'pgk', 'bgb', 'wtv', 'pjr', 'qvq', 'hbg', 'kgm', 'mqt', 'mrw', 'z05', 'scc', 'gbv', 'trs', 'wcr', 'jdc', 'wws', 'ghm', 'jwk', 'kkq', 'vvf', 'gfk', 'rsw', 'mvf', 'jhn', 'css', 'cfk', 'sgj', 'dtt', 'wjj', 'bwv', 'wfd', 'kbk', 'dgn', 'wqh', 'jmv', 'rrn', 'hwb', 'skp', 'fpt'}\n",
      "z39 {'wcs', 'rrc', 'ntm', 'ktk', 'jnf', 'nqs', 'gmp', 'msn', 'qjb', 'sqw', 'vpb', 'tnm', 'wkt', 'gst', 'pjf', 'dmk', 'wmf', 'hgg', 'vts', 'gvt', 'sqq', 'fcg', 'wcq', 'rdq', 'hbj', 'vcr', 'vmj', 'vph', 'sjt', 'smv', 'hvp', 'tgw', 'ccs', 'nkr', 'brp', 'z00', 'jwq', 'qbm', 'ktd', 'pmm', 'vqr', 'vht', 'pgk', 'bgb', 'pjr', 'qvq', 'hbg', 'kgm', 'mqt', 'mrw', 'z05', 'scc', 'gbv', 'trs', 'wcr', 'jdc', 'wws', 'ghm', 'jwk', 'kkq', 'vvf', 'gfk', 'rsw', 'mvf', 'jhn', 'css', 'cfk', 'sgj', 'dtt', 'wjj', 'bwv', 'wfd', 'kbk', 'dgn', 'wqh', 'jmv', 'rrn', 'hwb', 'skp', 'fpt'}\n",
      "z38 {'wcs', 'rrc', 'ntm', 'ktk', 'jnf', 'nqs', 'gmp', 'msn', 'qjb', 'sqw', 'vpb', 'tnm', 'wkt', 'gst', 'pjf', 'dmk', 'hgg', 'vts', 'gvt', 'sqq', 'fcg', 'wcq', 'rdq', 'hbj', 'vcr', 'vmj', 'vph', 'sjt', 'smv', 'hvp', 'tgw', 'ccs', 'nkr', 'brp', 'z00', 'jwq', 'qbm', 'ktd', 'pmm', 'vqr', 'vht', 'pgk', 'bgb', 'pjr', 'qvq', 'hbg', 'kgm', 'mqt', 'mrw', 'z05', 'scc', 'gbv', 'trs', 'wcr', 'jdc', 'wws', 'ghm', 'jwk', 'kkq', 'vvf', 'gfk', 'rsw', 'mvf', 'jhn', 'css', 'cfk', 'sgj', 'dtt', 'wjj', 'bwv', 'wfd', 'kbk', 'dgn', 'wqh', 'jmv', 'hwb', 'skp', 'fpt'}\n",
      "z37 {'wcs', 'nkr', 'brp', 'jhn', 'z00', 'rrc', 'jwq', 'ntm', 'css', 'cfk', 'sgj', 'qbm', 'ktk', 'ktd', 'hbj', 'wjj', 'nqs', 'pmm', 'gmp', 'vcr', 'vht', 'qjb', 'rsw', 'jnf', 'bgb', 'bwv', 'vqr', 'pjr', 'pgk', 'wfd', 'qvq', 'sqw', 'wcq', 'vpb', 'tnm', 'wkt', 'hbg', 'kgm', 'mqt', 'mrw', 'kbk', 'z05', 'scc', 'dgn', 'gbv', 'trs', 'wcr', 'vmj', 'wqh', 'jmv', 'jdc', 'wws', 'skp', 'vph', 'hwb', 'msn', 'gst', 'pjf', 'dmk', 'fpt', 'hgg', 'jwk', 'sjt', 'smv', 'vts', 'kkq', 'gvt', 'sqq', 'tgw', 'hvp', 'gfk', 'vvf', 'rdq', 'ccs', 'fcg', 'mvf'}\n",
      "z36 {'wcs', 'nkr', 'brp', 'jhn', 'z00', 'rrc', 'jwq', 'ntm', 'css', 'cfk', 'sgj', 'qbm', 'ktk', 'ktd', 'hbj', 'wjj', 'nqs', 'pmm', 'gmp', 'rsw', 'vht', 'qjb', 'jnf', 'vqr', 'bgb', 'bwv', 'pgk', 'pjr', 'wfd', 'qvq', 'sqw', 'wcq', 'vpb', 'tnm', 'wkt', 'kgm', 'hbg', 'mqt', 'mrw', 'kbk', 'z05', 'scc', 'gbv', 'trs', 'wcr', 'vmj', 'wqh', 'jmv', 'jdc', 'wws', 'skp', 'vph', 'hwb', 'msn', 'gst', 'pjf', 'dmk', 'fpt', 'hgg', 'jwk', 'sjt', 'smv', 'vts', 'kkq', 'gvt', 'sqq', 'tgw', 'hvp', 'gfk', 'vvf', 'rdq', 'ccs', 'fcg', 'mvf'}\n",
      "z35 {'wcs', 'nkr', 'brp', 'jhn', 'z00', 'rrc', 'jwq', 'ntm', 'css', 'cfk', 'sgj', 'qbm', 'ktk', 'ktd', 'hbj', 'wjj', 'nqs', 'pmm', 'gmp', 'rsw', 'vht', 'qjb', 'jnf', 'vqr', 'bgb', 'bwv', 'pgk', 'pjr', 'wfd', 'qvq', 'sqw', 'wcq', 'vpb', 'tnm', 'wkt', 'kgm', 'hbg', 'mqt', 'mrw', 'kbk', 'z05', 'scc', 'gbv', 'trs', 'wcr', 'vmj', 'wqh', 'jmv', 'jdc', 'wws', 'skp', 'vph', 'hwb', 'msn', 'pjf', 'dmk', 'fpt', 'hgg', 'jwk', 'sjt', 'smv', 'vts', 'kkq', 'gvt', 'hvp', 'tgw', 'vvf', 'gfk', 'fcg', 'rdq', 'ccs', 'mvf'}\n",
      "z34 {'nkr', 'brp', 'jhn', 'z00', 'rrc', 'jwq', 'ntm', 'css', 'cfk', 'sgj', 'qbm', 'ktk', 'ktd', 'hbj', 'wjj', 'nqs', 'pmm', 'gmp', 'rsw', 'vht', 'jnf', 'vqr', 'pgk', 'bgb', 'bwv', 'msn', 'pjr', 'wfd', 'qvq', 'sqw', 'wcq', 'vpb', 'tnm', 'wkt', 'kgm', 'hbg', 'mqt', 'mrw', 'kbk', 'z05', 'scc', 'gbv', 'trs', 'wcr', 'vmj', 'wqh', 'jmv', 'jdc', 'wws', 'skp', 'vph', 'hwb', 'pjf', 'dmk', 'fpt', 'hgg', 'jwk', 'sjt', 'smv', 'vts', 'kkq', 'gvt', 'hvp', 'tgw', 'vvf', 'gfk', 'fcg', 'rdq', 'ccs', 'mvf'}\n",
      "z33 {'nkr', 'brp', 'jhn', 'z00', 'rrc', 'jwq', 'ntm', 'css', 'cfk', 'sgj', 'qbm', 'ktk', 'ktd', 'hbj', 'wjj', 'nqs', 'pmm', 'gmp', 'rsw', 'vht', 'jnf', 'vqr', 'pgk', 'bgb', 'bwv', 'msn', 'pjr', 'wfd', 'qvq', 'sqw', 'wcq', 'vpb', 'tnm', 'wkt', 'kgm', 'hbg', 'mqt', 'mrw', 'kbk', 'z05', 'scc', 'gbv', 'trs', 'wcr', 'vmj', 'wqh', 'jmv', 'jdc', 'wws', 'skp', 'vph', 'hwb', 'pjf', 'dmk', 'fpt', 'sjt', 'smv', 'vts', 'kkq', 'gvt', 'hvp', 'tgw', 'vvf', 'gfk', 'fcg', 'rdq', 'ccs', 'mvf'}\n",
      "z32 {'nkr', 'brp', 'jhn', 'z00', 'rrc', 'jwq', 'ntm', 'css', 'cfk', 'sgj', 'qbm', 'ktk', 'ktd', 'hbj', 'jnf', 'nqs', 'pmm', 'gmp', 'rsw', 'vht', 'vqr', 'pgk', 'msn', 'bgb', 'bwv', 'pjr', 'wfd', 'qvq', 'sqw', 'wcq', 'vpb', 'tnm', 'wkt', 'kgm', 'hbg', 'mqt', 'mrw', 'kbk', 'z05', 'scc', 'gbv', 'trs', 'wcr', 'vmj', 'wqh', 'jmv', 'jdc', 'wws', 'skp', 'vph', 'hwb', 'pjf', 'dmk', 'fpt', 'sjt', 'smv', 'vts', 'kkq', 'hvp', 'vvf', 'tgw', 'fcg', 'gfk', 'rdq', 'ccs', 'mvf'}\n",
      "z31 {'nkr', 'brp', 'jhn', 'z00', 'rrc', 'jwq', 'ntm', 'css', 'cfk', 'sgj', 'qbm', 'ktk', 'ktd', 'hbj', 'jnf', 'pmm', 'gmp', 'rsw', 'vht', 'vqr', 'pgk', 'msn', 'bgb', 'bwv', 'pjr', 'wfd', 'qvq', 'sqw', 'wcq', 'vpb', 'tnm', 'wkt', 'kgm', 'mqt', 'mrw', 'kbk', 'z05', 'scc', 'gbv', 'trs', 'wcr', 'vmj', 'wqh', 'jmv', 'jdc', 'wws', 'skp', 'vph', 'hwb', 'pjf', 'dmk', 'fpt', 'sjt', 'smv', 'vts', 'kkq', 'hvp', 'vvf', 'tgw', 'fcg', 'gfk', 'rdq', 'ccs', 'mvf'}\n",
      "z30 {'nkr', 'jhn', 'z00', 'rrc', 'jwq', 'ntm', 'css', 'cfk', 'sgj', 'qbm', 'ktk', 'ktd', 'hbj', 'jnf', 'vqr', 'gmp', 'rsw', 'vht', 'pgk', 'msn', 'bgb', 'bwv', 'pjr', 'wfd', 'qvq', 'sqw', 'wcq', 'vpb', 'tnm', 'wkt', 'kgm', 'mqt', 'mrw', 'kbk', 'z05', 'scc', 'gbv', 'trs', 'wcr', 'vmj', 'wqh', 'jmv', 'jdc', 'wws', 'skp', 'vph', 'hwb', 'pjf', 'dmk', 'fpt', 'sjt', 'smv', 'vts', 'kkq', 'hvp', 'vvf', 'tgw', 'fcg', 'gfk', 'rdq', 'ccs', 'mvf'}\n",
      "z29 {'nkr', 'jhn', 'z00', 'rrc', 'jwq', 'ntm', 'css', 'cfk', 'sgj', 'qbm', 'ktk', 'ktd', 'hbj', 'jnf', 'vqr', 'msn', 'rsw', 'vht', 'pgk', 'bgb', 'bwv', 'pjr', 'wfd', 'qvq', 'sqw', 'wcq', 'vpb', 'tnm', 'wkt', 'kgm', 'mqt', 'mrw', 'kbk', 'z05', 'scc', 'gbv', 'vmj', 'wcr', 'wqh', 'jmv', 'jdc', 'wws', 'skp', 'vph', 'hwb', 'pjf', 'dmk', 'fpt', 'sjt', 'smv', 'vts', 'kkq', 'hvp', 'vvf', 'tgw', 'fcg', 'gfk', 'rdq', 'ccs', 'mvf'}\n",
      "z28 {'nkr', 'jhn', 'z00', 'jwq', 'ntm', 'css', 'cfk', 'sgj', 'qbm', 'ktk', 'ktd', 'hbj', 'jnf', 'vqr', 'msn', 'rsw', 'vht', 'pgk', 'bgb', 'bwv', 'pjr', 'wfd', 'qvq', 'sqw', 'wcq', 'vpb', 'tnm', 'wkt', 'kgm', 'mqt', 'mrw', 'kbk', 'z05', 'scc', 'gbv', 'vmj', 'wcr', 'wqh', 'jmv', 'jdc', 'wws', 'skp', 'vph', 'hwb', 'pjf', 'dmk', 'fpt', 'sjt', 'smv', 'vts', 'kkq', 'hvp', 'vvf', 'tgw', 'fcg', 'gfk', 'rdq', 'ccs'}\n",
      "z27 {'nkr', 'jhn', 'z00', 'jwq', 'css', 'cfk', 'sgj', 'qbm', 'ktk', 'ktd', 'hbj', 'jnf', 'vqr', 'msn', 'rsw', 'vht', 'pgk', 'bgb', 'bwv', 'pjr', 'wfd', 'qvq', 'sqw', 'wcq', 'vpb', 'tnm', 'wkt', 'mqt', 'mrw', 'kbk', 'z05', 'scc', 'gbv', 'vmj', 'wcr', 'wqh', 'jmv', 'jdc', 'wws', 'skp', 'vph', 'hwb', 'pjf', 'dmk', 'fpt', 'sjt', 'smv', 'vts', 'kkq', 'hvp', 'vvf', 'tgw', 'fcg', 'gfk', 'rdq', 'ccs'}\n",
      "z26 {'nkr', 'jhn', 'z00', 'jwq', 'css', 'cfk', 'sgj', 'qbm', 'ktk', 'ktd', 'jnf', 'vqr', 'msn', 'rsw', 'vht', 'pgk', 'bgb', 'bwv', 'pjr', 'wfd', 'qvq', 'sqw', 'wcq', 'vpb', 'tnm', 'wkt', 'mqt', 'mrw', 'kbk', 'z05', 'scc', 'gbv', 'vmj', 'wqh', 'jmv', 'jdc', 'wws', 'skp', 'vph', 'hwb', 'pjf', 'dmk', 'fpt', 'sjt', 'smv', 'vts', 'kkq', 'hvp', 'vvf', 'tgw', 'fcg', 'gfk', 'rdq', 'ccs'}\n",
      "z25 {'nkr', 'jhn', 'z00', 'jwq', 'css', 'cfk', 'sgj', 'qbm', 'ktk', 'ktd', 'jnf', 'vqr', 'msn', 'vht', 'pgk', 'bgb', 'bwv', 'pjr', 'wfd', 'qvq', 'sqw', 'wcq', 'vpb', 'tnm', 'wkt', 'mqt', 'mrw', 'kbk', 'z05', 'scc', 'gbv', 'vmj', 'wqh', 'jmv', 'jdc', 'hwb', 'skp', 'vph', 'pjf', 'dmk', 'fpt', 'sjt', 'smv', 'vts', 'kkq', 'hvp', 'vvf', 'tgw', 'fcg', 'gfk', 'rsw', 'ccs'}\n",
      "z24 {'nkr', 'jhn', 'z00', 'jwq', 'css', 'cfk', 'sgj', 'qbm', 'ktk', 'jnf', 'vqr', 'msn', 'vht', 'pgk', 'bgb', 'bwv', 'pjr', 'wfd', 'qvq', 'sqw', 'vpb', 'tnm', 'wkt', 'mqt', 'mrw', 'kbk', 'z05', 'scc', 'gbv', 'vmj', 'wqh', 'jmv', 'jdc', 'hwb', 'skp', 'vph', 'pjf', 'dmk', 'fpt', 'sjt', 'smv', 'vts', 'kkq', 'hvp', 'vvf', 'tgw', 'fcg', 'wcq', 'rsw', 'ccs'}\n",
      "z23 {'nkr', 'jhn', 'z00', 'jwq', 'css', 'cfk', 'sgj', 'qbm', 'ktk', 'jnf', 'vqr', 'msn', 'vht', 'pgk', 'bgb', 'bwv', 'pjr', 'wfd', 'qvq', 'sqw', 'vpb', 'tnm', 'mqt', 'mrw', 'kbk', 'z05', 'scc', 'gbv', 'vmj', 'wqh', 'jmv', 'jdc', 'hwb', 'vph', 'pjf', 'dmk', 'fpt', 'sjt', 'smv', 'vts', 'kkq', 'hvp', 'vvf', 'tgw', 'fcg', 'wcq', 'rsw', 'ccs'}\n",
      "z22 {'nkr', 'jhn', 'z00', 'jwq', 'css', 'cfk', 'sgj', 'qbm', 'ktk', 'jnf', 'vqr', 'msn', 'pgk', 'bgb', 'bwv', 'pjr', 'wfd', 'qvq', 'sqw', 'vpb', 'tnm', 'mqt', 'mrw', 'kbk', 'z05', 'scc', 'gbv', 'vmj', 'wqh', 'jmv', 'jdc', 'hwb', 'pjf', 'dmk', 'fpt', 'sjt', 'smv', 'vts', 'kkq', 'hvp', 'vvf', 'tgw', 'fcg', 'wcq', 'rsw', 'ccs'}\n",
      "z21 {'nkr', 'jhn', 'z00', 'jwq', 'css', 'cfk', 'sgj', 'qbm', 'ktk', 'jnf', 'vqr', 'msn', 'pgk', 'bgb', 'bwv', 'pjr', 'wfd', 'qvq', 'sqw', 'vpb', 'tnm', 'mqt', 'mrw', 'kbk', 'z05', 'scc', 'gbv', 'vmj', 'wqh', 'jmv', 'jdc', 'hwb', 'pjf', 'dmk', 'fpt', 'sjt', 'smv', 'vts', 'hvp', 'vvf', 'fcg', 'wcq', 'rsw', 'ccs'}\n",
      "z20 {'nkr', 'jhn', 'z00', 'jwq', 'css', 'cfk', 'sgj', 'ktk', 'jnf', 'vqr', 'msn', 'pgk', 'bgb', 'bwv', 'pjr', 'wfd', 'qvq', 'sqw', 'vpb', 'tnm', 'mqt', 'mrw', 'kbk', 'z05', 'scc', 'gbv', 'vmj', 'wqh', 'jmv', 'jdc', 'hwb', 'pjf', 'dmk', 'fpt', 'sjt', 'smv', 'vts', 'hvp', 'vvf', 'fcg', 'wcq', 'rsw'}\n",
      "z19 {'nkr', 'jhn', 'z00', 'jwq', 'cfk', 'sgj', 'ktk', 'jnf', 'vqr', 'msn', 'pgk', 'bgb', 'bwv', 'pjr', 'wfd', 'qvq', 'sqw', 'vpb', 'tnm', 'mqt', 'mrw', 'kbk', 'z05', 'scc', 'gbv', 'vmj', 'wqh', 'jdc', 'hwb', 'pjf', 'dmk', 'fpt', 'sjt', 'smv', 'vts', 'hvp', 'vvf', 'fcg', 'wcq', 'rsw'}\n",
      "z18 {'nkr', 'jhn', 'z00', 'jwq', 'cfk', 'sgj', 'ktk', 'jnf', 'vqr', 'msn', 'pgk', 'bgb', 'bwv', 'pjr', 'wfd', 'qvq', 'sqw', 'vpb', 'tnm', 'mqt', 'mrw', 'kbk', 'z05', 'scc', 'gbv', 'wqh', 'jdc', 'hwb', 'pjf', 'dmk', 'fpt', 'smv', 'vts', 'hvp', 'vvf', 'fcg', 'wcq', 'rsw'}\n",
      "z17 {'nkr', 'jhn', 'z00', 'jwq', 'cfk', 'sgj', 'ktk', 'jnf', 'vqr', 'msn', 'pgk', 'bgb', 'bwv', 'wfd', 'sqw', 'vpb', 'tnm', 'mqt', 'mrw', 'kbk', 'z05', 'scc', 'gbv', 'wqh', 'jdc', 'hwb', 'pjf', 'dmk', 'fpt', 'smv', 'vts', 'hvp', 'vvf', 'fcg', 'wcq', 'rsw'}\n",
      "z16 {'jhn', 'z00', 'jwq', 'cfk', 'sgj', 'ktk', 'jnf', 'vqr', 'msn', 'pgk', 'bgb', 'bwv', 'wfd', 'sqw', 'vpb', 'tnm', 'mqt', 'mrw', 'kbk', 'z05', 'scc', 'wqh', 'jdc', 'hwb', 'pjf', 'dmk', 'fpt', 'smv', 'vts', 'hvp', 'vvf', 'fcg', 'wcq', 'rsw'}\n",
      "z15 {'z00', 'jwq', 'cfk', 'sgj', 'ktk', 'jnf', 'vqr', 'msn', 'pgk', 'bgb', 'bwv', 'wfd', 'sqw', 'vpb', 'tnm', 'mqt', 'mrw', 'kbk', 'z05', 'scc', 'wqh', 'jdc', 'hwb', 'pjf', 'dmk', 'fpt', 'smv', 'vts', 'vvf', 'fcg', 'wcq', 'rsw'}\n",
      "z14 {'z00', 'jwq', 'cfk', 'sgj', 'ktk', 'jnf', 'vqr', 'msn', 'pgk', 'bgb', 'bwv', 'wfd', 'vpb', 'tnm', 'mqt', 'mrw', 'kbk', 'z05', 'scc', 'wqh', 'jdc', 'hwb', 'pjf', 'dmk', 'fpt', 'vts', 'vvf', 'fcg', 'wcq', 'rsw'}\n",
      "z13 {'z00', 'jwq', 'cfk', 'sgj', 'ktk', 'jnf', 'vqr', 'msn', 'pgk', 'bgb', 'bwv', 'wfd', 'vpb', 'mqt', 'mrw', 'z05', 'scc', 'wqh', 'jdc', 'hwb', 'pjf', 'dmk', 'fpt', 'vts', 'vvf', 'fcg', 'wcq', 'rsw'}\n",
      "z12 {'z00', 'jwq', 'cfk', 'sgj', 'ktk', 'jnf', 'vqr', 'msn', 'pgk', 'bgb', 'bwv', 'wfd', 'vpb', 'mqt', 'mrw', 'z05', 'scc', 'jdc', 'pjf', 'dmk', 'fpt', 'vts', 'vvf', 'fcg', 'wcq', 'rsw'}\n",
      "z11 {'z00', 'jwq', 'cfk', 'sgj', 'ktk', 'jnf', 'vqr', 'msn', 'pgk', 'wfd', 'vpb', 'mqt', 'mrw', 'z05', 'scc', 'jdc', 'pjf', 'dmk', 'fpt', 'vts', 'vvf', 'fcg', 'wcq', 'rsw'}\n",
      "z10 {'z00', 'jwq', 'cfk', 'sgj', 'ktk', 'jnf', 'vqr', 'msn', 'pgk', 'wfd', 'vpb', 'mqt', 'mrw', 'z05', 'scc', 'jdc', 'pjf', 'fpt', 'vts', 'vvf', 'fcg', 'wcq'}\n",
      "z09 {'z00', 'jwq', 'cfk', 'sgj', 'jnf', 'vqr', 'msn', 'pgk', 'vpb', 'mqt', 'mrw', 'z05', 'scc', 'jdc', 'pjf', 'fpt', 'vts', 'vvf', 'fcg', 'wcq'}\n",
      "z08 {'vqr', 'z05', 'scc', 'pgk', 'msn', 'z00', 'jwq', 'cfk', 'jdc', 'vpb', 'vts', 'pjf', 'vvf', 'fcg', 'wcq', 'mqt', 'mrw', 'fpt'}\n",
      "z07 {'vqr', 'z05', 'scc', 'pgk', 'msn', 'z00', 'jdc', 'vpb', 'vts', 'pjf', 'vvf', 'fcg', 'wcq', 'mqt', 'mrw', 'fpt'}\n",
      "z06 {'z05', 'scc', 'pgk', 'msn', 'z00', 'jdc', 'vpb', 'vts', 'pjf', 'vvf', 'fcg', 'wcq', 'mrw', 'fpt'}\n",
      "z05 {'wcq', 'z05'}\n",
      "z04 {'msn', 'scc', 'z00', 'jdc', 'vpb', 'pjf', 'vvf', 'fcg', 'mrw', 'fpt'}\n",
      "z03 {'msn', 'scc', 'z00', 'jdc', 'vpb', 'pjf', 'fcg', 'fpt'}\n",
      "z02 {'msn', 'z00', 'jdc', 'vpb', 'pjf', 'fcg'}\n",
      "z01 {'vpb', 'z00', 'pjf', 'fcg'}\n",
      "z00 {'z00', 'pjf'}\n"
     ]
    }
   ],
   "source": [
    "for z in all_zwires:\n",
    "# for z in possible_swaps:\n",
    "    check = deque([z])\n",
    "    out = []\n",
    "    while check:\n",
    "        el = check.popleft()\n",
    "        if el in rules:\n",
    "            for p in rules[el][:2]:\n",
    "                if p not in check:\n",
    "                    check.append(p)\n",
    "        else:\n",
    "            out += [_ for _ in rules if el in rules[_]]\n",
    "    print(z, set(out))"
   ]
  },
  {
   "cell_type": "code",
   "execution_count": null,
   "metadata": {},
   "outputs": [],
   "source": [
    "print(check)"
   ]
  },
  {
   "cell_type": "code",
   "execution_count": null,
   "metadata": {},
   "outputs": [
    {
     "data": {
      "text/plain": [
       "('qjb', 'kjr', 'XOR')"
      ]
     },
     "metadata": {},
     "output_type": "display_data"
    }
   ],
   "source": [
    "rules['z35']"
   ]
  },
  {
   "cell_type": "code",
   "execution_count": null,
   "metadata": {},
   "outputs": [],
   "source": [
    "po"
   ]
  },
  {
   "cell_type": "code",
   "execution_count": null,
   "metadata": {},
   "outputs": [
    {
     "name": "stderr",
     "output_type": "stream",
     "text": [
      "100%|██████████| 100001/100001 [00:24<00:00, 4088.45it/s]\n"
     ]
    }
   ],
   "source": [
    "\n",
    "\n",
    "import random\n",
    "from itertools import product\n",
    "from tqdm import tqdm\n",
    "maxint = int(''.join(['1']*(len(wire_in.splitlines())//2)),2)\n",
    "N = 100000  # Number of random pairs\n",
    "random_pairs = [(0,0)] + [(random.randint(0, maxint), random.randint(0, maxint)) for _ in range(N)]\n",
    "\n",
    "possible_swaps = set()\n",
    "for xin, yin in  tqdm(random_pairs):\n",
    "    wires = defaultdict(int)\n",
    "    for i, (x, y) in enumerate(zip(str(bin(xin))[2:][::-1], str(bin(yin))[2:][::-1])):\n",
    "        wires['x0{}'.format(i)] = int(x)\n",
    "        wires['y0{}'.format(i)] = int(y)\n",
    "\n",
    "    should_be_result = bin(xin + yin)[2:]\n",
    "    is_result = computez(wires)\n",
    "    if xin + yin < maxint:\n",
    "        disagree_indices = [max(len(is_result), len(should_be_result)) - i for i, (a, b) in enumerate(zip(should_be_result.zfill(len(is_result)), is_result.zfill(len(should_be_result)))) if a != b]\n",
    "        for i in disagree_indices:\n",
    "            possible_swaps.add('z{}'.format(str(i).zfill(2)))\n",
    "            "
   ]
  },
  {
   "cell_type": "code",
   "execution_count": null,
   "metadata": {},
   "outputs": [
    {
     "name": "stdout",
     "output_type": "stream",
     "text": [
      "Hitting Set: {'z34', 'z16', 'jbj', 'z17', 'z35', 'jdc', 'jnf', 'z14', 'sgn', 'qnn', 'nkr', 'z00', 'vqr', 'qbm', 'vph', 'brp', 'z25', 'ghm', 'kgv', 'z26', 'z20', 'cch', 'mvf', 'vfw', 'vcr', 'fsh', 'bwv', 'fcg', 'trn', 'z05', 'hbg', 'z36', 'vcf', 'z22', 'vnq', 'msn'}\n",
      "36\n"
     ]
    }
   ],
   "source": []
  },
  {
   "cell_type": "code",
   "execution_count": null,
   "metadata": {},
   "outputs": [
    {
     "name": "stdout",
     "output_type": "stream",
     "text": [
      "30260340\n"
     ]
    }
   ],
   "source": []
  },
  {
   "cell_type": "code",
   "execution_count": null,
   "metadata": {},
   "outputs": [
    {
     "data": {
      "text/plain": [
       "('qjb', 'kjr', 'XOR')"
      ]
     },
     "metadata": {},
     "output_type": "display_data"
    }
   ],
   "source": [
    "rules['z35'][:3]"
   ]
  },
  {
   "cell_type": "code",
   "execution_count": null,
   "metadata": {},
   "outputs": [],
   "source": []
  },
  {
   "cell_type": "code",
   "execution_count": null,
   "metadata": {},
   "outputs": [],
   "source": []
  },
  {
   "cell_type": "code",
   "execution_count": null,
   "metadata": {},
   "outputs": [],
   "source": []
  },
  {
   "cell_type": "code",
   "execution_count": null,
   "metadata": {},
   "outputs": [
    {
     "name": "stdout",
     "output_type": "stream",
     "text": [
      "z09 {'jnf', 'z09', 'kvg'}\n",
      "z32 {'hbg', 'z32'}\n",
      "z34 {'z34', 'nmv', 'gfr', 'gvt'}\n",
      "z16 {'z16', 'jhn'}\n",
      "z11 {'kmn', 'cwt', 'z11', 'wjk', 'jnf'}\n",
      "z17 {'z17', 'hvp', 'pth'}\n",
      "z35 {'z35', 'qjb'}\n",
      "z31 {'nvk', 'jbj', 'dgc', 'kgm', 'hrs', 'cvn', 'z31', 'trk'}\n",
      "z14 {'z14', 'hwb', 'ctf'}\n",
      "z46 {'z46'}\n",
      "z40 {'qnn', 'fvw', 'z40', 'wmf'}\n",
      "z33 {'brp', 'sqt', 'z33', 'rfn', 'mhh', 'kns'}\n",
      "z41 {'fsh', 'z41'}\n",
      "z18 {'swb', 'z18', 'nkr'}\n",
      "z37 {'vcr', 'z37'}\n",
      "z15 {'sgn', 'z15', 'kbk'}\n",
      "z25 {'z25', 'ktd'}\n",
      "z45 {'mcf', 'z45', 'gkb', 'fbb', 'kcq', 'vcf', 'cpw'}\n",
      "z20 {'z20', 'sjt', 'vch'}\n",
      "z26 {'z26', 'wkt', 'tgj', 'cds', 'kht'}\n",
      "z12 {'bwv', 'z12'}\n",
      "z19 {'nkr', 'z19', 'swb', 'crc', 'gtv'}\n",
      "z24 {'z24', 'sfw', 'vph', 'qbs'}\n",
      "z10 {'z10', 'jnf', 'cwt'}\n",
      "z28 {'krw', 'kgv', 'wws', 'z28', 'nkt', 'stt'}\n",
      "z21 {'qbm', 'z21'}\n",
      "z42 {'z42', 'vcf'}\n",
      "z27 {'z27', 'kgv', 'wws', 'stt'}\n",
      "z30 {'jbj', 'dgc', 'kgm', 'z30', 'hrs', 'cvn'}\n",
      "z23 {'vph', 'z23'}\n",
      "z07 {'vfw', 'vts', 'z07'}\n",
      "z38 {'z38', 'ghm'}\n",
      "z13 {'vnq', 'bgb', 'z13'}\n",
      "z36 {'z36', 'sqq'}\n",
      "z39 {'sqd', 'z39', 'ghm', 'mdn'}\n",
      "z29 {'mvf', 'z29'}\n",
      "z22 {'z22', 'tgw'}\n",
      "z08 {'vqr', 'z08', 'fqf'}\n",
      "z44 {'mcf', 'fbb', 'kcq', 'vcf', 'cpw', 'z44'}\n",
      "z43 {'cch', 'z43'}\n",
      "z06 {'trn', 'z06', 'wcq', 'gnw'}\n",
      "{'vch', 'z32', 'z34', 'fqf', 'tgj', 'kcq', 'jhn', 'z11', 'qjb', 'z17', 'qbs', 'hrs', 'hvp', 'cvn', 'z31', 'z14', 'nmv', 'kmn', 'mcf', 'fvw', 'nkr', 'mdn', 'fbb', 'z40', 'nkt', 'qbm', 'z41', 'z18', 'stt', 'wmf', 'mhh', 'z37', 'gtv', 'brp', 'z25', 'krw', 'z20', 'cch', 'z24', 'vts', 'z28', 'kgm', 'z21', 'z42', 'z27', 'vcr', 'fsh', 'vfw', 'bwv', 'gnw', 'trn', 'z38', 'bgb', 'z36', 'vcf', 'z22', 'cpw', 'cds', 'z44', 'z43', 'z06', 'nvk', 'trk', 'z09', 'sqt', 'z16', 'jbj', 'tgw', 'z35', 'kbk', 'wjk', 'wcq', 'jnf', 'sgn', 'qnn', 'gfr', 'z46', 'gkb', 'ctf', 'swb', 'crc', 'vqr', 'z33', 'sqd', 'z15', 'vph', 'kns', 'z45', 'kgv', 'z26', 'gvt', 'z12', 'ghm', 'z19', 'z10', 'wkt', 'cwt', 'mvf', 'z30', 'rfn', 'z23', 'kht', 'kvg', 'z07', 'hwb', 'pth', 'wws', 'sqq', 'z13', 'hbg', 'z39', 'sfw', 'z29', 'dgc', 'vnq', 'ktd', 'z08', 'sjt'}\n"
     ]
    }
   ],
   "source": [
    "all_parents = set()\n",
    "dut_dict = {}\n",
    "\n",
    "all_zwires = [_ for _ in rules if _[0]=='z']\n",
    "all_zwires.sort(reverse=True)\n",
    "\n",
    "for z in possible_swaps:\n",
    "    print(z, get_dependence_upper_tree(z))\n",
    "    dut_dict.update({z: get_dependence_upper_tree(z)})\n",
    "    all_parents.update(get_dependence_upper_tree(z))"
   ]
  },
  {
   "cell_type": "code",
   "execution_count": null,
   "metadata": {},
   "outputs": [],
   "source": [
    "from itertools import chain, combinations\n",
    "\n",
    "all_parents = set()\n",
    "dut_dict = {}\n",
    "dut_list = []\n",
    "\n",
    "all_zwires = [_ for _ in rules if _[0]=='z']\n",
    "all_zwires.sort(reverse=True)\n",
    "\n",
    "for z in all_zwires:\n",
    "    # print(z, get_dependence_upper_tree(z))\n",
    "    dut_dict.update({z: get_dependence_upper_tree(z)})\n",
    "    all_parents.update(get_dependence_upper_tree(z))\n",
    "    dut_list.append(get_dependence_upper_tree(z))\n",
    "# print(all_parents)\n",
    "# dut_dict = dict(sorted(dut_dict.items(), key=lambda item: len(item[1])))\n",
    "\n"
   ]
  },
  {
   "cell_type": "code",
   "execution_count": null,
   "metadata": {},
   "outputs": [],
   "source": []
  },
  {
   "cell_type": "code",
   "execution_count": null,
   "metadata": {},
   "outputs": [
    {
     "data": {
      "text/plain": [
       "129"
      ]
     },
     "metadata": {},
     "output_type": "display_data"
    }
   ],
   "source": [
    "len(all_parents)"
   ]
  },
  {
   "cell_type": "code",
   "execution_count": null,
   "metadata": {},
   "outputs": [
    {
     "data": {
      "text/plain": [
       "46"
      ]
     },
     "metadata": {},
     "output_type": "display_data"
    }
   ],
   "source": [
    "len(all_zwires)"
   ]
  },
  {
   "cell_type": "code",
   "execution_count": null,
   "metadata": {},
   "outputs": [],
   "source": []
  },
  {
   "cell_type": "code",
   "execution_count": null,
   "metadata": {},
   "outputs": [
    {
     "ename": "SyntaxError",
     "evalue": "invalid syntax (1282682330.py, line 18)",
     "output_type": "error",
     "traceback": [
      "\u001b[0;36m  Cell \u001b[0;32mIn[131], line 18\u001b[0;36m\u001b[0m\n",
      "\u001b[0;31m    if\u001b[0m\n",
      "\u001b[0m       ^\u001b[0m\n",
      "\u001b[0;31mSyntaxError\u001b[0m\u001b[0;31m:\u001b[0m invalid syntax\n"
     ]
    }
   ],
   "source": [
    "from itertools import combinations\n",
    "\n",
    "swaps_that_improve = []\n",
    "all_parent_combinations = list(combinations(all_parents, 7))\n",
    "\n",
    "toswap = 'z05' \n",
    "for otherwire in all_parents:\n",
    "    _newrules = rules.copy()\n",
    "    _newrules[toswap] = rules[otherwire]\n",
    "    _newrules[otherwire] = rules[toswap]\n",
    "    for xin, yin in  tqdm(list(product(range(maxint), range(maxint)))):\n",
    "        wires = defaultdict(int)\n",
    "        for i, (x, y) in enumerate(zip(str(bin(xin))[2:][::-1], str(bin(yin))[2:][::-1])):\n",
    "            wires['x0{}'.format(i)] = int(x)\n",
    "            wires['y0{}'.format(i)] = int(y)\n",
    "    should_be_result = bin(xin + yin)[2:]\n",
    "    is_result = computez(wires)\n",
    "    if "
   ]
  },
  {
   "cell_type": "code",
   "execution_count": null,
   "metadata": {},
   "outputs": [
    {
     "data": {
      "text/plain": [
       "19448"
      ]
     },
     "metadata": {},
     "output_type": "display_data"
    }
   ],
   "source": [
    "swaps_that_improve = []\n",
    "all_parent_combinations =  [list(_) + ['z05'] for _ in list(combinations(all_parents, 7))]\n",
    "len(all_parent_combinations)"
   ]
  },
  {
   "cell_type": "code",
   "execution_count": null,
   "metadata": {},
   "outputs": [],
   "source": [
    "from itertools import combinations, permutations\n",
    "\n",
    "def get_partitions(lst):\n",
    "    all_combinations = list(combinations(lst, 2))\n",
    "    partitions = []\n",
    "    for comb in combinations(all_combinations, 4):\n",
    "        elements = set()\n",
    "        for pair in comb:\n",
    "            elements.update(pair)\n",
    "        if len(elements) == 8:\n",
    "            partitions.append(comb)\n",
    "    return partitions\n",
    "\n",
    "lst = ['a', 'b', 'c', 'd', 'e', 'f', 'g', 'h']\n",
    "partitions = get_partitions(lst)"
   ]
  },
  {
   "cell_type": "code",
   "execution_count": null,
   "metadata": {},
   "outputs": [
    {
     "data": {
      "text/plain": [
       "105"
      ]
     },
     "metadata": {},
     "output_type": "display_data"
    }
   ],
   "source": [
    "len(partitions)"
   ]
  },
  {
   "cell_type": "code",
   "execution_count": null,
   "metadata": {},
   "outputs": [],
   "source": []
  },
  {
   "cell_type": "code",
   "execution_count": null,
   "metadata": {},
   "outputs": [
    {
     "data": {
      "text/plain": [
       "defaultdict(int,\n",
       "            {'z05': 1,\n",
       "             'kvg': 1,\n",
       "             'cwt': 1,\n",
       "             'kmn': 1,\n",
       "             'fqf': 1,\n",
       "             'vfb': 1,\n",
       "             'trn': 1,\n",
       "             'jdc': 1,\n",
       "             'ngk': 1,\n",
       "             'vfw': 1})"
      ]
     },
     "metadata": {},
     "output_type": "display_data"
    }
   ],
   "source": [
    "probable_swaps = defaultdict(int)\n",
    "for swap in possible_swaps:\n",
    "    parents = get_parents(swap)\n",
    "    for parent in parents:\n",
    "        probable_swaps[parent] +=1\n",
    "    if parents == set():\n",
    "        probable_swaps[swap] +=1\n",
    "probable_swaps"
   ]
  },
  {
   "cell_type": "code",
   "execution_count": null,
   "metadata": {},
   "outputs": [
    {
     "data": {
      "text/plain": [
       "set()"
      ]
     },
     "metadata": {},
     "output_type": "display_data"
    }
   ],
   "source": [
    "possible_swaps"
   ]
  },
  {
   "cell_type": "code",
   "execution_count": null,
   "metadata": {},
   "outputs": [
    {
     "data": {
      "text/plain": [
       "20"
      ]
     },
     "metadata": {},
     "output_type": "display_data"
    }
   ],
   "source": [
    "len([x for x in probable_swaps]) "
   ]
  },
  {
   "cell_type": "code",
   "execution_count": null,
   "metadata": {},
   "outputs": [],
   "source": []
  },
  {
   "cell_type": "code",
   "execution_count": null,
   "metadata": {},
   "outputs": [],
   "source": [
    "reduced = []\n",
    "\n",
    "parents_of_candidates = []\n",
    "for candidate in possible_swaps:\n",
    "    parents_of_candidates.append(get_parents(candidate))\n",
    "\n",
    "for parents in parents_of_candidates:\n",
    "    if len([parents.isdisjoint(other) for other in parents_of_candidates])==1:\n",
    "        reduced.append(parents)\n",
    "    else:\n",
    "        reduced.append(parents.difference(set.union(*[other for other in parents_of_candidates if parents != other])))\n"
   ]
  },
  {
   "cell_type": "code",
   "execution_count": null,
   "metadata": {},
   "outputs": [
    {
     "data": {
      "text/plain": [
       "[{'z09'},\n",
       " {'vqr'},\n",
       " {'hpb'},\n",
       " {'vts'},\n",
       " set(),\n",
       " {'z02'},\n",
       " {'jnf'},\n",
       " {'z07'},\n",
       " {'z05'},\n",
       " {'gnw'},\n",
       " {'z08'},\n",
       " {'z03'},\n",
       " {'z06'},\n",
       " {'msn'},\n",
       " {'z04'}]"
      ]
     },
     "metadata": {},
     "output_type": "display_data"
    }
   ],
   "source": [
    "reduced"
   ]
  },
  {
   "cell_type": "code",
   "execution_count": null,
   "metadata": {},
   "outputs": [
    {
     "ename": "TypeError",
     "evalue": "unhashable type: 'set'",
     "output_type": "error",
     "traceback": [
      "\u001b[0;31m---------------------------------------------------------------------------\u001b[0m\n",
      "\u001b[0;31mTypeError\u001b[0m                                 Traceback (most recent call last)\n",
      "Cell \u001b[0;32mIn[49], line 1\u001b[0m\n",
      "\u001b[0;32m----> 1\u001b[0m \u001b[38;5;28;43mset\u001b[39;49m\u001b[43m(\u001b[49m\u001b[43mparents_of_candidates\u001b[49m\u001b[43m)\u001b[49m\n",
      "\n",
      "\u001b[0;31mTypeError\u001b[0m: unhashable type: 'set'"
     ]
    }
   ],
   "source": []
  },
  {
   "cell_type": "code",
   "execution_count": null,
   "metadata": {},
   "outputs": [
    {
     "name": "stdout",
     "output_type": "stream",
     "text": [
      "19\n"
     ]
    },
    {
     "data": {
      "text/plain": [
       "'cwt,fqf,jdc,kmn,kvg,ngk,trn,vfb,vfw,z02,z03,z04,z05,z06,z07,z08,z09,z10,z11'"
      ]
     },
     "metadata": {},
     "output_type": "display_data"
    }
   ],
   "source": [
    "# possible_swaps = list(possible_swaps)\n",
    "# print(len(possible_swaps))\n",
    "# possible_swaps.sort()\n",
    "# ','.join(possible_swaps)"
   ]
  },
  {
   "cell_type": "code",
   "execution_count": null,
   "metadata": {},
   "outputs": [
    {
     "data": {
      "text/plain": [
       "set()"
      ]
     },
     "metadata": {},
     "output_type": "display_data"
    }
   ],
   "source": []
  },
  {
   "cell_type": "code",
   "execution_count": null,
   "metadata": {},
   "outputs": [
    {
     "data": {
      "text/plain": [
       "set()"
      ]
     },
     "metadata": {},
     "output_type": "display_data"
    }
   ],
   "source": [
    "if len(tocheck) ==2:\n",
    "        try:\n",
    "            _1 = rules[list(tocheck)[0]]\n",
    "            _2 = rules[list(tocheck)[1]]\n",
    "            rules.update({ list(tocheck)[0] :  _2})\n",
    "            rules.update({ list(tocheck)[1] :  _1})\n",
    "            swapped.update(tocheck)\n",
    "            print(len(swapped))\n",
    "        except: None\n",
    "    # if len(swapped) == 8: break"
   ]
  },
  {
   "cell_type": "code",
   "execution_count": null,
   "metadata": {},
   "outputs": [
    {
     "data": {
      "text/plain": [
       "35184372088831"
      ]
     },
     "metadata": {},
     "output_type": "display_data"
    }
   ],
   "source": [
    "maxint = int(''.join(['1']*(len(wire_in.splitlines())//2)),2)\n",
    "maxint"
   ]
  },
  {
   "cell_type": "code",
   "execution_count": null,
   "metadata": {},
   "outputs": [
    {
     "data": {
      "text/plain": [
       "['1', '1', '1', '1', '1', '1', '1', '1', '1', '1', '1', '1']"
      ]
     },
     "metadata": {},
     "output_type": "display_data"
    }
   ],
   "source": [
    "['1']*len(wire_in.splitlines())//2"
   ]
  },
  {
   "cell_type": "code",
   "execution_count": null,
   "metadata": {},
   "outputs": [],
   "source": [
    "maxint = int('1'*(len(wire_in.splitlines())//2), 2)\n"
   ]
  },
  {
   "cell_type": "code",
   "execution_count": null,
   "metadata": {},
   "outputs": [
    {
     "name": "stdout",
     "output_type": "stream",
     "text": [
      "40320\n"
     ]
    }
   ],
   "source": [
    "from itertools import permutations\n",
    "perms = list(permutations(range(8)))\n",
    "print(len(perms))"
   ]
  },
  {
   "cell_type": "code",
   "execution_count": null,
   "metadata": {},
   "outputs": [
    {
     "name": "stderr",
     "output_type": "stream",
     "text": [
      "Exception ignored in: <bound method IPythonKernel._clean_thread_parent_frames of <ipykernel.ipkernel.IPythonKernel object at 0x7fdeb8a9edf0>>\n",
      "Traceback (most recent call last):\n",
      "  File \"/opt/anaconda3/lib/python3.9/site-packages/ipykernel/ipkernel.py\", line 775, in _clean_thread_parent_frames\n",
      "    def _clean_thread_parent_frames(\n",
      "KeyboardInterrupt: \n"
     ]
    }
   ],
   "source": [
    "subsets_of_size_8 = list(combinations(rules.keys(), 8))\n",
    "print(len(subsets_of_size_8))"
   ]
  },
  {
   "cell_type": "code",
   "execution_count": null,
   "metadata": {},
   "outputs": [
    {
     "data": {
      "text/plain": [
       "[(0, 1, 2, 3), (0, 1, 2, 4), (0, 1, 3, 4), (0, 2, 3, 4), (1, 2, 3, 4)]"
      ]
     },
     "metadata": {},
     "output_type": "display_data"
    }
   ],
   "source": [
    "from itertools import combinations\n",
    "list(combinations(range(5), 4))"
   ]
  },
  {
   "cell_type": "code",
   "execution_count": null,
   "metadata": {},
   "outputs": [
    {
     "ename": "MemoryError",
     "evalue": "",
     "output_type": "error",
     "traceback": [
      "\u001b[0;31m---------------------------------------------------------------------------\u001b[0m\n",
      "\u001b[0;31mMemoryError\u001b[0m                               Traceback (most recent call last)\n",
      "Cell \u001b[0;32mIn[15], line 1\u001b[0m\n",
      "\u001b[0;32m----> 1\u001b[0m \u001b[38;5;28mlen\u001b[39m( \u001b[38;5;28mlist\u001b[39m(\u001b[43mproduct\u001b[49m\u001b[43m(\u001b[49m\u001b[38;5;28;43mrange\u001b[39;49m\u001b[43m(\u001b[49m\u001b[43mmaxint\u001b[49m\u001b[43m)\u001b[49m\u001b[43m,\u001b[49m\u001b[43m \u001b[49m\u001b[38;5;28;43mrange\u001b[39;49m\u001b[43m(\u001b[49m\u001b[43mmaxint\u001b[49m\u001b[43m)\u001b[49m\u001b[43m)\u001b[49m))\n",
      "\n",
      "\u001b[0;31mMemoryError\u001b[0m: "
     ]
    }
   ],
   "source": [
    "len( list(product(range(maxint), range(maxint))))"
   ]
  },
  {
   "cell_type": "code",
   "execution_count": null,
   "metadata": {},
   "outputs": [],
   "source": []
  },
  {
   "cell_type": "code",
   "execution_count": null,
   "metadata": {},
   "outputs": [
    {
     "name": "stdout",
     "output_type": "stream",
     "text": [
      "101100\n",
      "0011111101000\n"
     ]
    }
   ],
   "source": [
    "all_xwires = [_ for _ in wires if _[0]=='x']; all_xwires.sort(reverse=True)\n",
    "xval = int(''.join([str(int(wires[x])) for x in all_xwires]), 2)\n",
    "all_ywires = [_ for _ in wires if _[0]=='y']; all_ywires.sort(reverse=True) \n",
    "yval = int(''.join([str(int(wires[y])) for y in all_ywires]), 2)\n",
    "binary_sum = bin(xval + yval)[2:]\n",
    "\n",
    "print(binary_sum)\n",
    "print(''.join([str(int(wires[z])) for z in all_zwires]))"
   ]
  },
  {
   "cell_type": "code",
   "execution_count": null,
   "metadata": {},
   "outputs": [
    {
     "data": {
      "text/plain": [
       "222"
      ]
     },
     "metadata": {},
     "output_type": "display_data"
    }
   ],
   "source": [
    "len(rules)"
   ]
  },
  {
   "cell_type": "code",
   "execution_count": null,
   "metadata": {},
   "outputs": [
    {
     "data": {
      "text/plain": [
       "[]"
      ]
     },
     "metadata": {},
     "output_type": "display_data"
    }
   ],
   "source": [
    "all_xwires = [_ for _ in rules if _[0]=='x']; all_xwires.sort(reverse=True)\n"
   ]
  },
  {
   "cell_type": "code",
   "execution_count": null,
   "metadata": {},
   "outputs": [
    {
     "data": {
      "text/plain": [
       "['x04', 'x03', 'x02', 'x01', 'x00']"
      ]
     },
     "metadata": {},
     "output_type": "display_data"
    }
   ],
   "source": [
    "all_xwires"
   ]
  },
  {
   "cell_type": "code",
   "execution_count": null,
   "metadata": {},
   "outputs": [],
   "source": [
    "from collections import defaultdict, deque\n",
    "\n",
    "filename = 'test24.txt'\n",
    "# filename = 'input24.txt'\n",
    "\n",
    "wire_in, rules_in = open(filename).read().split('\\n\\n')\n",
    "wires = {line.split(': ')[0] : int(line.split(': ')[1]) for line in wire_in.splitlines()}\n",
    "\n",
    "rules = dict()\n",
    "for line in rules_in.splitlines():\n",
    "    inop = line.split(' -> ')[0].split(' ')\n",
    "    rules[line.split(' -> ')[1]] = ( inop[0], inop[2], inop[1])\n",
    "\n",
    "def computez(wires = wires, rules = rules):\n",
    "    def do_op(in1, in2, op):\n",
    "        if op == 'AND': return wires[in1] and wires[in2]\n",
    "        elif op == 'OR': return wires[in1] or wires[in2]\n",
    "        elif op == 'XOR': return wires[in1] ^ wires[in2]\n",
    "        else: return None\n",
    "    def reconstruct(name, wires):\n",
    "        if name in wires or name[0] in ['x','y']: \n",
    "            return wires\n",
    "        else:\n",
    "            (in1, in2, op) = rules[name]\n",
    "            wires_ = reconstruct(in1, wires)\n",
    "            wires = reconstruct(in2, wires_)\n",
    "            wires[name] = do_op(in1,in2, op)\n",
    "            return wires\n",
    "        \n",
    "    all_zwires = [_ for _ in rules if _[0]=='z']; all_zwires.sort(reverse=True)\n",
    "    for z in all_zwires:\n",
    "        wires = reconstruct(z, wires)\n",
    "    return {z : wires[z] for z in all_zwires}\n",
    "    \n",
    "p1 = int( ''.join([str(int(computez()[z])) for z in computez() ]), 2)\n",
    "print(f'Part 1: {p1}')\n",
    "\n"
   ]
  }
 ],
 "metadata": {
  "language_info": {
   "name": "python"
  }
 },
 "nbformat": 4,
 "nbformat_minor": 2
}
