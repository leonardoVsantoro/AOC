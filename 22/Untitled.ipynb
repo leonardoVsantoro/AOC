{
 "cells": [
  {
   "cell_type": "code",
   "execution_count": 6,
   "id": "38f23939",
   "metadata": {
    "ExecuteTime": {
     "end_time": "2022-12-24T17:38:38.634861Z",
     "start_time": "2022-12-24T17:38:31.759006Z"
    }
   },
   "outputs": [
    {
     "name": "stdout",
     "output_type": "stream",
     "text": [
      "Part 1: 4138\n",
      "Part 2: 1010\n"
     ]
    }
   ],
   "source": [
    "from os import path\n",
    "from collections import defaultdict\n",
    "import itertools\n",
    "\n",
    "\n",
    "OPTIONS = (\n",
    "    ((0, -1), (1, -1), (-1, -1)),  # NORTH\n",
    "    ((0, 1), (1, 1), (-1, 1)),  # SOUTH\n",
    "    ((-1, 0), (-1, 1), (-1, -1)),  # WEST\n",
    "    ((1, 0), (1, 1), (1, -1)),  # EAST\n",
    ")\n",
    "\n",
    "\n",
    "def surrounding(x, y):\n",
    "    for dx in (-1, 0, 1):\n",
    "        for dy in (-1, 0, 1):\n",
    "            if dx == 0 and dy == 0:\n",
    "                continue\n",
    "            if (x + dx, y + dy) in grid:\n",
    "                return True\n",
    "    return False\n",
    "\n",
    "\n",
    "with open('input_23.txt') as f:\n",
    "    grid = set()\n",
    "    for y, line in enumerate(f.read().splitlines()):\n",
    "        for x, c in enumerate(line):\n",
    "            if c == \"#\":\n",
    "                grid.add((x, y))\n",
    "\n",
    "    for i in itertools.count():\n",
    "        proposed = defaultdict(list)\n",
    "        new_grid = set()\n",
    "\n",
    "        for x, y in grid:\n",
    "            if not surrounding(x, y):\n",
    "                new_grid.add((x, y))\n",
    "                continue\n",
    "\n",
    "            for j in range(4):\n",
    "                opt = OPTIONS[(i + j) % 4]\n",
    "                if all((x + dx, y + dy) not in grid for dx, dy in opt):\n",
    "                    dx, dy = opt[0]\n",
    "                    proposed[x + dx, y + dy].append((x, y))\n",
    "                    break\n",
    "            else:\n",
    "                new_grid.add((x, y))\n",
    "\n",
    "        for p, es in proposed.items():\n",
    "            if len(es) == 1:\n",
    "                new_grid.add(p)\n",
    "            else:\n",
    "                new_grid.update(es)\n",
    "\n",
    "        if grid == new_grid:\n",
    "            print(\"Part 2:\", i + 1)\n",
    "            break\n",
    "\n",
    "        grid = new_grid\n",
    "\n",
    "        if i == 9:\n",
    "            minx = min(x for x, y in grid)\n",
    "            maxx = max(x for x, y in grid)\n",
    "            miny = min(y for x, y in grid)\n",
    "            maxy = max(y for x, y in grid)\n",
    "            width = maxx - minx + 1\n",
    "            height = maxy - miny + 1\n",
    "\n",
    "            print(\"Part 1:\", width * height - len(grid))"
   ]
  },
  {
   "cell_type": "code",
   "execution_count": 5,
   "id": "f2aba790",
   "metadata": {
    "ExecuteTime": {
     "end_time": "2022-12-24T17:19:58.552844Z",
     "start_time": "2022-12-24T17:19:58.548913Z"
    }
   },
   "outputs": [
    {
     "data": {
      "text/plain": [
       "8.055555555555555"
      ]
     },
     "execution_count": 5,
     "metadata": {},
     "output_type": "execute_result"
    }
   ],
   "source": [
    "29*1000/60/60"
   ]
  },
  {
   "cell_type": "code",
   "execution_count": null,
   "id": "54b9c43d",
   "metadata": {},
   "outputs": [],
   "source": []
  }
 ],
 "metadata": {
  "kernelspec": {
   "display_name": "Python 3 (ipykernel)",
   "language": "python",
   "name": "python3"
  },
  "language_info": {
   "codemirror_mode": {
    "name": "ipython",
    "version": 3
   },
   "file_extension": ".py",
   "mimetype": "text/x-python",
   "name": "python",
   "nbconvert_exporter": "python",
   "pygments_lexer": "ipython3",
   "version": "3.9.13"
  },
  "toc": {
   "base_numbering": 1,
   "nav_menu": {},
   "number_sections": true,
   "sideBar": true,
   "skip_h1_title": false,
   "title_cell": "Table of Contents",
   "title_sidebar": "Contents",
   "toc_cell": false,
   "toc_position": {},
   "toc_section_display": true,
   "toc_window_display": true
  }
 },
 "nbformat": 4,
 "nbformat_minor": 5
}
